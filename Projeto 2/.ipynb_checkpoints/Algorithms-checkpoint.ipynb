{
 "cells": [
  {
   "cell_type": "markdown",
   "id": "6f2f3f43-bb16-474f-b354-f28e2257c437",
   "metadata": {},
   "source": [
    "## Algorithms"
   ]
  },
  {
   "cell_type": "code",
   "execution_count": 6,
   "id": "fd4ddd90-7e8f-4bc3-b387-74ddb7742622",
   "metadata": {},
   "outputs": [],
   "source": [
    "import numpy as np\n",
    "import pandas as pd\n",
    "from sklearn.metrics import accuracy_score, precision_score, recall_score, f1_score, confusion_matrix\n",
    "from sklearn.preprocessing import LabelEncoder\n",
    "from sklearn.impute import SimpleImputer\n",
    "from sklearn.neural_network import MLPClassifier\n",
    "from sklearn.model_selection import train_test_split\n",
    "from sklearn.svm import SVC\n",
    "from sklearn.tree import DecisionTreeClassifier\n",
    "import random\n"
   ]
  },
  {
   "cell_type": "markdown",
   "id": "b572384b-b133-4b8f-bdec-fae33788e607",
   "metadata": {},
   "source": [
    "### Neural Network"
   ]
  },
  {
   "cell_type": "code",
   "execution_count": 11,
   "id": "81554e0a-120c-410f-a0bf-e89119babc38",
   "metadata": {},
   "outputs": [
    {
     "name": "stdout",
     "output_type": "stream",
     "text": [
      "NEURAL NETWORK ALGORITHM\n",
      "\n",
      "Accuracy: 0.7800963081861958\n",
      "Precision: 0.7323369565217391\n",
      "Recall: 0.875\n",
      "F1 Score: 0.7973372781065088\n"
     ]
    }
   ],
   "source": [
    "#NEURAL NETWORK ALGORITHM\n",
    "print(\"NEURAL NETWORK ALGORITHM\\n\")\n",
    "\n",
    "# Read the dataset\n",
    "data = pd.read_excel(\"Train.xlsx\")\n",
    "\n",
    "# Fill empty columns\n",
    "customer_age_default = 'unknown'\n",
    "marital_default = \"widowed\"\n",
    "balance_default = data[\"balance\"].median()\n",
    "personal_default = \"unknown\"\n",
    "last_contact_duration_default = round(data[\"last_contact_duration\"].mean(), 0)\n",
    "num_contacts_in_campaign_default = data[\"num_contacts_in_campaign\"].median()\n",
    "days_since_prev_campaign_contact_default = 0\n",
    "data.fillna({'customer_age': customer_age_default}, inplace=True)\n",
    "data.fillna({'marital': marital_default}, inplace=True)\n",
    "data.fillna({'balance': balance_default}, inplace=True)\n",
    "data.fillna({'personal_loan': personal_default}, inplace=True)\n",
    "data.fillna({'last_contact_duration': last_contact_duration_default}, inplace=True)\n",
    "data.fillna({'num_contacts_in_campaign': num_contacts_in_campaign_default}, inplace=True)\n",
    "data.fillna({'days_since_prev_campaign_contact': days_since_prev_campaign_contact_default}, inplace=True)\n",
    "\n",
    "# Remove rows of our choice\n",
    "data = data[(data['job_type'] != 'unknown')]\n",
    "data = data[(data['personal_loan'] != 'unknown')]\n",
    "data = data[(data['customer_age'] != 'unknown')]\n",
    "data = data[(data['prev_campaign_outcome'] != 'other')]\n",
    "\n",
    "# Balance the dataset\n",
    "class_counts = data['term_deposit_subscribed'].value_counts()\n",
    "num_zeros = class_counts[0]\n",
    "num_ones = class_counts[1]\n",
    "zero_indices = data[data['term_deposit_subscribed'] == 0].index\n",
    "one_indices = data[data['term_deposit_subscribed'] == 1].index\n",
    "count_diff = abs(num_zeros - num_ones)\n",
    "\n",
    "if num_zeros > num_ones:\n",
    "    remove_indices = np.random.choice(zero_indices, count_diff, replace=False)\n",
    "else:\n",
    "    remove_indices = np.random.choice(one_indices, count_diff, replace=False)\n",
    "\n",
    "data = data.drop(remove_indices)\n",
    "\n",
    "# Encode categorical columns\n",
    "label_encoder = LabelEncoder()\n",
    "for column in data.columns:\n",
    "    if data[column].dtype == 'object':\n",
    "        data[column] = label_encoder.fit_transform(data[column])\n",
    "\n",
    "# Select features and target\n",
    "features = data.drop(['id', 'term_deposit_subscribed'], axis=1)\n",
    "target = data['term_deposit_subscribed']\n",
    "\n",
    "# Split the data into training and testing sets\n",
    "X_train, X_test, y_train, y_test = train_test_split(features, target, test_size=0.2, random_state=42)\n",
    "\n",
    "# Create and train the neural network model\n",
    "model = MLPClassifier(hidden_layer_sizes=(100, 100), random_state=42)\n",
    "model.fit(X_train, y_train)\n",
    "\n",
    "predictions = model.predict(X_test)\n",
    "\n",
    "# Calculate evaluation metrics\n",
    "accuracy = accuracy_score(y_test, predictions)\n",
    "precision = precision_score(y_test, predictions)\n",
    "recall = recall_score(y_test, predictions)\n",
    "f1 = f1_score(y_test, predictions)\n",
    "\n",
    "# Print the evaluation metrics\n",
    "print(\"Accuracy:\", accuracy )\n",
    "print(\"Precision:\", precision)\n",
    "print(\"Recall:\", recall)\n",
    "print(\"F1 Score:\", f1)"
   ]
  },
  {
   "cell_type": "code",
   "execution_count": 8,
   "id": "b9b04eab-6484-444f-9605-87e58800bca6",
   "metadata": {},
   "outputs": [
    {
     "name": "stdout",
     "output_type": "stream",
     "text": [
      "SVM ALGORITHM\n",
      "\n",
      "Accuracy: 0.7552166934189406\n",
      "Precision: 0.7890070921985816\n",
      "Recall: 0.705229793977813\n",
      "F1 Score: 0.7447698744769875\n"
     ]
    }
   ],
   "source": [
    "#SVM ALGORITHM\n",
    "print(\"SVM ALGORITHM\\n\")\n",
    "\n",
    "# Encode categorical columns\n",
    "label_encoder = LabelEncoder()\n",
    "for column in data.columns:\n",
    "    if data[column].dtype == 'object':\n",
    "        data[column] = label_encoder.fit_transform(data[column])\n",
    "\n",
    "# Select features and target\n",
    "features = data.drop(['id', 'term_deposit_subscribed'], axis=1)\n",
    "target = data['term_deposit_subscribed']\n",
    "\n",
    "# Split the data into training and testing sets\n",
    "X_train, X_test, y_train, y_test = train_test_split(features, target, test_size=0.2, random_state=42)\n",
    "\n",
    "# Create and train the SVM model\n",
    "model = SVC(random_state=42)\n",
    "model.fit(X_train, y_train)\n",
    "\n",
    "predictions = model.predict(X_test)\n",
    "\n",
    "# Calculate evaluation metrics\n",
    "accuracy = accuracy_score(y_test, predictions)\n",
    "precision = precision_score(y_test, predictions)\n",
    "recall = recall_score(y_test, predictions)\n",
    "f1 = f1_score(y_test, predictions)\n",
    "\n",
    "# Print the evaluation metrics and confusion matrix\n",
    "print(\"Accuracy:\", accuracy )\n",
    "print(\"Precision:\", precision)\n",
    "print(\"Recall:\", recall)\n",
    "print(\"F1 Score:\", f1)\n",
    "\n"
   ]
  },
  {
   "cell_type": "code",
   "execution_count": 9,
   "id": "3c91e23b-78ef-43c4-b2a3-1182be2caebb",
   "metadata": {},
   "outputs": [
    {
     "name": "stdout",
     "output_type": "stream",
     "text": [
      "DECISION TREE ALGORITHM\n",
      "\n",
      "Accuracy: 0.8210272873194222\n",
      "Precision: 0.8333333333333334\n",
      "Recall: 0.8082408874801902\n",
      "F1 Score: 0.8205953338696702\n"
     ]
    }
   ],
   "source": [
    "# Decision Tree Model\n",
    "print(\"DECISION TREE ALGORITHM\\n\")\n",
    "\n",
    "# Encode categorical columns\n",
    "label_encoder = LabelEncoder()\n",
    "for column in data.columns:\n",
    "    if data[column].dtype == 'object':\n",
    "        data[column] = label_encoder.fit_transform(data[column])\n",
    "\n",
    "# Select features and target\n",
    "features = data.drop(['id', 'term_deposit_subscribed'], axis=1)\n",
    "target = data['term_deposit_subscribed']\n",
    "\n",
    "# Split the data into training and testing sets\n",
    "X_train, X_test, y_train, y_test = train_test_split(features, target, test_size=0.2, random_state=42)\n",
    "\n",
    "# Create and train the Decision Tree model\n",
    "model = DecisionTreeClassifier(random_state=42)\n",
    "model.fit(X_train, y_train)\n",
    "\n",
    "# Make predictions on the test set\n",
    "predictions = model.predict(X_test)\n",
    "\n",
    "# Calculate evaluation metrics\n",
    "accuracy = accuracy_score(y_test, predictions)\n",
    "precision = precision_score(y_test, predictions)\n",
    "recall = recall_score(y_test, predictions)\n",
    "f1 = f1_score(y_test, predictions)\n",
    "\n",
    "# Print the evaluation metrics and confusion matrix\n",
    "print(\"Accuracy:\", accuracy )\n",
    "print(\"Precision:\", precision)\n",
    "print(\"Recall:\", recall)\n",
    "print(\"F1 Score:\", f1)\n",
    "\n"
   ]
  },
  {
   "cell_type": "code",
   "execution_count": 10,
   "id": "f147365d-4620-4697-b665-3d417193191f",
   "metadata": {},
   "outputs": [
    {
     "name": "stdout",
     "output_type": "stream",
     "text": [
      "RANDOM ALGORITHM\n",
      "\n",
      "Accuracy: 0.49518459069020865\n",
      "Precision: 0.5015527950310559\n",
      "Recall: 0.5118858954041204\n",
      "F1 Score: 0.5066666666666666\n"
     ]
    }
   ],
   "source": [
    "#Random Algorithm\n",
    "print(\"RANDOM ALGORITHM\\n\")\n",
    "\n",
    "# Encode categorical columns\n",
    "label_encoder = LabelEncoder()\n",
    "for column in data.columns:\n",
    "    if data[column].dtype == 'object':\n",
    "        data[column] = label_encoder.fit_transform(data[column])\n",
    "\n",
    "# Select features and target\n",
    "features = data.drop(['id', 'term_deposit_subscribed'], axis=1)\n",
    "target = data['term_deposit_subscribed']\n",
    "\n",
    "# Split the data into training and testing sets\n",
    "X_train, X_test, y_train, y_test = train_test_split(features, target, test_size=0.2, random_state=42)\n",
    "\n",
    "random_predictions = [random.choice([0, 1]) for _ in range(len(y_test))]\n",
    "\n",
    "# Calculate evaluation metrics\n",
    "accuracy = accuracy_score(y_test, random_predictions)\n",
    "precision = precision_score(y_test, random_predictions)\n",
    "recall = recall_score(y_test, random_predictions)\n",
    "f1 = f1_score(y_test, random_predictions)\n",
    "\n",
    "# Print the evaluation metrics and confusion matrix\n",
    "print(\"Accuracy:\", accuracy )\n",
    "print(\"Precision:\", precision)\n",
    "print(\"Recall:\", recall)\n",
    "print(\"F1 Score:\", f1)\n"
   ]
  }
 ],
 "metadata": {
  "kernelspec": {
   "display_name": "Python 3 (ipykernel)",
   "language": "python",
   "name": "python3"
  },
  "language_info": {
   "codemirror_mode": {
    "name": "ipython",
    "version": 3
   },
   "file_extension": ".py",
   "mimetype": "text/x-python",
   "name": "python",
   "nbconvert_exporter": "python",
   "pygments_lexer": "ipython3",
   "version": "3.10.9"
  }
 },
 "nbformat": 4,
 "nbformat_minor": 5
}
